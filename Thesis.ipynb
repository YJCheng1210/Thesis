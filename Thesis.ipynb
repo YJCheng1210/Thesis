{
 "cells": [
  {
   "cell_type": "code",
   "execution_count": 18,
   "metadata": {},
   "outputs": [
    {
     "name": "stdout",
     "output_type": "stream",
     "text": [
      "Your Initial Input (Birthday): [9, 4, 0, 2, 1, 7]\n",
      "Iter 1 [3, 7, 1, 9, 2, 1]\n",
      "Iter 2 [2, 3, 7, 2, 4, 8]\n",
      "Iter 3 [5, 8, 7, 4, 6, 5]\n",
      "Iter 4 [3, 1, 1, 1, 8, 6]\n",
      "Iter 5 [8, 4, 9, 6, 5, 9]\n",
      "Iter 6 [7, 1, 6, 9, 1, 8]\n",
      "Iter 7 [1, 7, 2, 4, 0, 6]\n",
      "Iter 8 [4, 5, 8, 8, 4, 0]\n",
      "Iter 9 [8, 5, 2, 5, 0, 1]\n",
      "Iter 10 [3, 1, 0, 0, 0, 5]\n",
      "Iter 11 [9, 2, 9, 9, 4, 9]\n",
      "Iter 12 [2, 2, 8, 1, 7, 3]\n"
     ]
    }
   ],
   "source": [
    "import math\n",
    "\n",
    "def func(n1, n2, shift=6):\n",
    "     return ((n1+shift)**2 + (n2+shift)**2) / (math.sqrt((n1+shift)**2+(n2+shift)**2)-(n2+shift))\n",
    "\n",
    "def code_create(list1):\n",
    "    a1 = func(list1[0], list1[1])\n",
    "    a2 = func(list1[2], list1[3])\n",
    "    a3 = func(list1[4], list1[5])\n",
    "    num = (a1 * a2 * a3) / (a1 + a2 + a3)\n",
    "    num = num - int(num)\n",
    "    num = round(num*1000000,0)\n",
    "    num_str = str(num)\n",
    "    while len(num_str) < 6:\n",
    "        num_str += '0'\n",
    "    return [int(s) for s in num_str[0:6:]]\n",
    "\n",
    "input1 = input('Input your birthday(yymmdd}: ')\n",
    "shift = 6\n",
    "\n",
    "digits = [int(s) for s in input1]\n",
    "print(f'Your Initial Input (Birthday): {digits}')\n",
    "codes = []\n",
    "\n",
    "for __ in range(12):\n",
    "    digits = code_create(digits)\n",
    "    codes.append(digits)\n",
    "\n",
    "for i in range(len(codes)):\n",
    "    print(f'Iter {i+1} {codes[i]}')"
   ]
  }
 ],
 "metadata": {
  "kernelspec": {
   "display_name": "Python 3.10.5 64-bit",
   "language": "python",
   "name": "python3"
  },
  "language_info": {
   "codemirror_mode": {
    "name": "ipython",
    "version": 3
   },
   "file_extension": ".py",
   "mimetype": "text/x-python",
   "name": "python",
   "nbconvert_exporter": "python",
   "pygments_lexer": "ipython3",
   "version": "3.10.5"
  },
  "orig_nbformat": 4,
  "vscode": {
   "interpreter": {
    "hash": "a42ccb73e7d9bfdf27e036f1d2b8b681e55fc0743cc5586bc2474d4a60f4b886"
   }
  }
 },
 "nbformat": 4,
 "nbformat_minor": 2
}
